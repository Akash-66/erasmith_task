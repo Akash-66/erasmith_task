{
  "nbformat": 4,
  "nbformat_minor": 0,
  "metadata": {
    "colab": {
      "name": "erasmith_task.ipynb",
      "provenance": [],
      "collapsed_sections": []
    },
    "kernelspec": {
      "name": "python3",
      "display_name": "Python 3"
    },
    "language_info": {
      "name": "python"
    }
  },
  "cells": [
    {
      "cell_type": "code",
      "metadata": {
        "id": "Sgj_eDmiMUFP"
      },
      "source": [
        "import pandas as pd"
      ],
      "execution_count": 175,
      "outputs": []
    },
    {
      "cell_type": "code",
      "metadata": {
        "id": "EQtSXe-CMaGn"
      },
      "source": [
        "A = pd.read_csv('a.csv',sep=',')"
      ],
      "execution_count": 176,
      "outputs": []
    },
    {
      "cell_type": "code",
      "metadata": {
        "id": "bstxK0nCNSd1"
      },
      "source": [
        "B = pd.read_csv('b.csv', sep=',')"
      ],
      "execution_count": 177,
      "outputs": []
    },
    {
      "cell_type": "code",
      "metadata": {
        "colab": {
          "base_uri": "https://localhost:8080/",
          "height": 195
        },
        "id": "pQmsOruJYryu",
        "outputId": "a01aa200-c17d-41cc-8c29-5b8862729715"
      },
      "source": [
        "A.head()"
      ],
      "execution_count": 178,
      "outputs": [
        {
          "output_type": "execute_result",
          "data": {
            "text/html": [
              "<div>\n",
              "<style scoped>\n",
              "    .dataframe tbody tr th:only-of-type {\n",
              "        vertical-align: middle;\n",
              "    }\n",
              "\n",
              "    .dataframe tbody tr th {\n",
              "        vertical-align: top;\n",
              "    }\n",
              "\n",
              "    .dataframe thead th {\n",
              "        text-align: right;\n",
              "    }\n",
              "</style>\n",
              "<table border=\"1\" class=\"dataframe\">\n",
              "  <thead>\n",
              "    <tr style=\"text-align: right;\">\n",
              "      <th></th>\n",
              "      <th>Organisation_Name</th>\n",
              "      <th>network_id</th>\n",
              "      <th>network_name</th>\n",
              "      <th>device_name</th>\n",
              "      <th>device_type</th>\n",
              "    </tr>\n",
              "  </thead>\n",
              "  <tbody>\n",
              "    <tr>\n",
              "      <th>0</th>\n",
              "      <td>EMEA-POS</td>\n",
              "      <td>6207</td>\n",
              "      <td>GRUNER-STRASSE</td>\n",
              "      <td>AP01_fauly</td>\n",
              "      <td>Wireless</td>\n",
              "    </tr>\n",
              "    <tr>\n",
              "      <th>1</th>\n",
              "      <td>EMEA-POS</td>\n",
              "      <td>5006</td>\n",
              "      <td>PLATZ</td>\n",
              "      <td>AP-02</td>\n",
              "      <td>Switch</td>\n",
              "    </tr>\n",
              "    <tr>\n",
              "      <th>2</th>\n",
              "      <td>EMEA-POS</td>\n",
              "      <td>5006</td>\n",
              "      <td>PLATZ</td>\n",
              "      <td>AP-03</td>\n",
              "      <td>Security Appliance</td>\n",
              "    </tr>\n",
              "    <tr>\n",
              "      <th>3</th>\n",
              "      <td>EMEA-POS</td>\n",
              "      <td>8698</td>\n",
              "      <td>EINSTEIN</td>\n",
              "      <td>TEl-AVIV_EINSTEIN_MR33</td>\n",
              "      <td>Wireless</td>\n",
              "    </tr>\n",
              "    <tr>\n",
              "      <th>4</th>\n",
              "      <td>EMEA-POS</td>\n",
              "      <td>8698</td>\n",
              "      <td>EINSTEIN</td>\n",
              "      <td>TEL-AVIV-EINTEIN_MX65</td>\n",
              "      <td>Wireless</td>\n",
              "    </tr>\n",
              "  </tbody>\n",
              "</table>\n",
              "</div>"
            ],
            "text/plain": [
              "  Organisation_Name  network_id  ...             device_name         device_type\n",
              "0          EMEA-POS        6207  ...              AP01_fauly            Wireless\n",
              "1          EMEA-POS        5006  ...                   AP-02              Switch\n",
              "2          EMEA-POS        5006  ...                   AP-03  Security Appliance\n",
              "3          EMEA-POS        8698  ...  TEl-AVIV_EINSTEIN_MR33            Wireless\n",
              "4          EMEA-POS        8698  ...   TEL-AVIV-EINTEIN_MX65            Wireless\n",
              "\n",
              "[5 rows x 5 columns]"
            ]
          },
          "metadata": {
            "tags": []
          },
          "execution_count": 178
        }
      ]
    },
    {
      "cell_type": "code",
      "metadata": {
        "colab": {
          "base_uri": "https://localhost:8080/",
          "height": 195
        },
        "id": "z4bYcP05YxTe",
        "outputId": "2e2949ac-3be8-40fa-acb1-bb3080bf4941"
      },
      "source": [
        "B.head()"
      ],
      "execution_count": 179,
      "outputs": [
        {
          "output_type": "execute_result",
          "data": {
            "text/html": [
              "<div>\n",
              "<style scoped>\n",
              "    .dataframe tbody tr th:only-of-type {\n",
              "        vertical-align: middle;\n",
              "    }\n",
              "\n",
              "    .dataframe tbody tr th {\n",
              "        vertical-align: top;\n",
              "    }\n",
              "\n",
              "    .dataframe thead th {\n",
              "        text-align: right;\n",
              "    }\n",
              "</style>\n",
              "<table border=\"1\" class=\"dataframe\">\n",
              "  <thead>\n",
              "    <tr style=\"text-align: right;\">\n",
              "      <th></th>\n",
              "      <th>device_type</th>\n",
              "      <th>device_name</th>\n",
              "      <th>network</th>\n",
              "      <th>inventory_state</th>\n",
              "    </tr>\n",
              "  </thead>\n",
              "  <tbody>\n",
              "    <tr>\n",
              "      <th>0</th>\n",
              "      <td>Switch</td>\n",
              "      <td>UK_U40_MS</td>\n",
              "      <td>KLS_BROADGATE - switch</td>\n",
              "      <td>In use</td>\n",
              "    </tr>\n",
              "    <tr>\n",
              "      <th>1</th>\n",
              "      <td>Switch</td>\n",
              "      <td>B04-04</td>\n",
              "      <td>CASABLANCA-MOROCCO - switch</td>\n",
              "      <td>In use</td>\n",
              "    </tr>\n",
              "    <tr>\n",
              "      <th>2</th>\n",
              "      <td>Switch</td>\n",
              "      <td>B01-04</td>\n",
              "      <td>CASABLANCA-MOROCCO - switch</td>\n",
              "      <td>In use</td>\n",
              "    </tr>\n",
              "    <tr>\n",
              "      <th>3</th>\n",
              "      <td>Switch</td>\n",
              "      <td>B03-03</td>\n",
              "      <td>CASABLANCA-MOROCCO - switch</td>\n",
              "      <td>In use</td>\n",
              "    </tr>\n",
              "    <tr>\n",
              "      <th>4</th>\n",
              "      <td>Switch</td>\n",
              "      <td>B02-04</td>\n",
              "      <td>CASABLANCA-MOROCCO - switch</td>\n",
              "      <td>In use</td>\n",
              "    </tr>\n",
              "  </tbody>\n",
              "</table>\n",
              "</div>"
            ],
            "text/plain": [
              "  device_type device_name                      network  inventory_state\n",
              "0      Switch   UK_U40_MS       KLS_BROADGATE - switch           In use\n",
              "1      Switch      B04-04  CASABLANCA-MOROCCO - switch           In use\n",
              "2      Switch      B01-04  CASABLANCA-MOROCCO - switch           In use\n",
              "3      Switch      B03-03  CASABLANCA-MOROCCO - switch           In use\n",
              "4      Switch      B02-04  CASABLANCA-MOROCCO - switch           In use"
            ]
          },
          "metadata": {
            "tags": []
          },
          "execution_count": 179
        }
      ]
    },
    {
      "cell_type": "code",
      "metadata": {
        "colab": {
          "base_uri": "https://localhost:8080/"
        },
        "id": "r_8b-8ytWKsh",
        "outputId": "e3c59668-e39f-49f4-a00d-8935f59ccaf6"
      },
      "source": [
        "A.columns"
      ],
      "execution_count": 180,
      "outputs": [
        {
          "output_type": "execute_result",
          "data": {
            "text/plain": [
              "Index(['Organisation_Name', 'network_id', 'network_name', 'device_name',\n",
              "       'device_type'],\n",
              "      dtype='object')"
            ]
          },
          "metadata": {
            "tags": []
          },
          "execution_count": 180
        }
      ]
    },
    {
      "cell_type": "code",
      "metadata": {
        "colab": {
          "base_uri": "https://localhost:8080/"
        },
        "id": "My8dfl9LUzkS",
        "outputId": "7e25f645-f920-4fcb-a392-cf26987368df"
      },
      "source": [
        "B.columns"
      ],
      "execution_count": 181,
      "outputs": [
        {
          "output_type": "execute_result",
          "data": {
            "text/plain": [
              "Index(['device_type', 'device_name', 'network', ' inventory_state'], dtype='object')"
            ]
          },
          "metadata": {
            "tags": []
          },
          "execution_count": 181
        }
      ]
    },
    {
      "cell_type": "markdown",
      "metadata": {
        "id": "n-OAeoVzZKb9"
      },
      "source": [
        "A-B"
      ]
    },
    {
      "cell_type": "code",
      "metadata": {
        "colab": {
          "base_uri": "https://localhost:8080/",
          "height": 106
        },
        "id": "Dt5SjSlSPa6M",
        "outputId": "7d7db1a5-e5fb-4032-9b35-fcba9b943b18"
      },
      "source": [
        "A[~A.device_type.isin(B.device_type)]"
      ],
      "execution_count": 187,
      "outputs": [
        {
          "output_type": "execute_result",
          "data": {
            "text/html": [
              "<div>\n",
              "<style scoped>\n",
              "    .dataframe tbody tr th:only-of-type {\n",
              "        vertical-align: middle;\n",
              "    }\n",
              "\n",
              "    .dataframe tbody tr th {\n",
              "        vertical-align: top;\n",
              "    }\n",
              "\n",
              "    .dataframe thead th {\n",
              "        text-align: right;\n",
              "    }\n",
              "</style>\n",
              "<table border=\"1\" class=\"dataframe\">\n",
              "  <thead>\n",
              "    <tr style=\"text-align: right;\">\n",
              "      <th></th>\n",
              "      <th>Organisation_Name</th>\n",
              "      <th>network_id</th>\n",
              "      <th>network_name</th>\n",
              "      <th>device_name</th>\n",
              "      <th>device_type</th>\n",
              "    </tr>\n",
              "  </thead>\n",
              "  <tbody>\n",
              "    <tr>\n",
              "      <th>2</th>\n",
              "      <td>EMEA-POS</td>\n",
              "      <td>5006</td>\n",
              "      <td>PLATZ</td>\n",
              "      <td>AP-03</td>\n",
              "      <td>Security Appliance</td>\n",
              "    </tr>\n",
              "    <tr>\n",
              "      <th>6</th>\n",
              "      <td>EMEA-POS</td>\n",
              "      <td>1189</td>\n",
              "      <td>ARM_WARS</td>\n",
              "      <td>WARS_MOKOTOW_MR33</td>\n",
              "      <td>Security Appliance</td>\n",
              "    </tr>\n",
              "  </tbody>\n",
              "</table>\n",
              "</div>"
            ],
            "text/plain": [
              "  Organisation_Name  network_id  ...        device_name         device_type\n",
              "2          EMEA-POS        5006  ...              AP-03  Security Appliance\n",
              "6          EMEA-POS        1189  ...  WARS_MOKOTOW_MR33  Security Appliance\n",
              "\n",
              "[2 rows x 5 columns]"
            ]
          },
          "metadata": {
            "tags": []
          },
          "execution_count": 187
        }
      ]
    },
    {
      "cell_type": "code",
      "metadata": {
        "colab": {
          "base_uri": "https://localhost:8080/"
        },
        "id": "rq0p_jqPvMzU",
        "outputId": "9cf250f1-5766-4d02-c255-6ef8df6e49d4"
      },
      "source": [
        "set(A['device_type']) - set(B['device_type'])"
      ],
      "execution_count": 183,
      "outputs": [
        {
          "output_type": "execute_result",
          "data": {
            "text/plain": [
              "{'Security Appliance'}"
            ]
          },
          "metadata": {
            "tags": []
          },
          "execution_count": 183
        }
      ]
    },
    {
      "cell_type": "markdown",
      "metadata": {
        "id": "3XQHHoHG1IKi"
      },
      "source": [
        "B-A"
      ]
    },
    {
      "cell_type": "code",
      "metadata": {
        "colab": {
          "base_uri": "https://localhost:8080/",
          "height": 402
        },
        "id": "VGJo9_5ZzNRc",
        "outputId": "1627ce43-2341-41d3-b03f-ddc353603444"
      },
      "source": [
        "B[~B.device_name.isin(A.device_name)]"
      ],
      "execution_count": 188,
      "outputs": [
        {
          "output_type": "execute_result",
          "data": {
            "text/html": [
              "<div>\n",
              "<style scoped>\n",
              "    .dataframe tbody tr th:only-of-type {\n",
              "        vertical-align: middle;\n",
              "    }\n",
              "\n",
              "    .dataframe tbody tr th {\n",
              "        vertical-align: top;\n",
              "    }\n",
              "\n",
              "    .dataframe thead th {\n",
              "        text-align: right;\n",
              "    }\n",
              "</style>\n",
              "<table border=\"1\" class=\"dataframe\">\n",
              "  <thead>\n",
              "    <tr style=\"text-align: right;\">\n",
              "      <th></th>\n",
              "      <th>device_type</th>\n",
              "      <th>device_name</th>\n",
              "      <th>network</th>\n",
              "      <th>inventory_state</th>\n",
              "    </tr>\n",
              "  </thead>\n",
              "  <tbody>\n",
              "    <tr>\n",
              "      <th>1</th>\n",
              "      <td>Switch</td>\n",
              "      <td>B04-04</td>\n",
              "      <td>CASABLANCA-MOROCCO - switch</td>\n",
              "      <td>In use</td>\n",
              "    </tr>\n",
              "    <tr>\n",
              "      <th>2</th>\n",
              "      <td>Switch</td>\n",
              "      <td>B01-04</td>\n",
              "      <td>CASABLANCA-MOROCCO - switch</td>\n",
              "      <td>In use</td>\n",
              "    </tr>\n",
              "    <tr>\n",
              "      <th>3</th>\n",
              "      <td>Switch</td>\n",
              "      <td>B03-03</td>\n",
              "      <td>CASABLANCA-MOROCCO - switch</td>\n",
              "      <td>In use</td>\n",
              "    </tr>\n",
              "    <tr>\n",
              "      <th>4</th>\n",
              "      <td>Switch</td>\n",
              "      <td>B02-04</td>\n",
              "      <td>CASABLANCA-MOROCCO - switch</td>\n",
              "      <td>In use</td>\n",
              "    </tr>\n",
              "    <tr>\n",
              "      <th>6</th>\n",
              "      <td>Switch</td>\n",
              "      <td>W01P</td>\n",
              "      <td>ISTANBUL-TURKEY - switch</td>\n",
              "      <td>In use</td>\n",
              "    </tr>\n",
              "    <tr>\n",
              "      <th>7</th>\n",
              "      <td>Switch</td>\n",
              "      <td>W02P</td>\n",
              "      <td>ISTANBUL-TURKEY - switch</td>\n",
              "      <td>In use</td>\n",
              "    </tr>\n",
              "    <tr>\n",
              "      <th>9</th>\n",
              "      <td>Wireless</td>\n",
              "      <td>NO50AAP004P</td>\n",
              "      <td>NaN</td>\n",
              "      <td>Unused</td>\n",
              "    </tr>\n",
              "    <tr>\n",
              "      <th>10</th>\n",
              "      <td>Wireless</td>\n",
              "      <td>FR44AAP001P</td>\n",
              "      <td>NaN</td>\n",
              "      <td>Unused</td>\n",
              "    </tr>\n",
              "    <tr>\n",
              "      <th>11</th>\n",
              "      <td>Wireless</td>\n",
              "      <td>FR44AAP002P</td>\n",
              "      <td>NaN</td>\n",
              "      <td>Unused</td>\n",
              "    </tr>\n",
              "    <tr>\n",
              "      <th>12</th>\n",
              "      <td>Wireless</td>\n",
              "      <td>FR44AAP003P</td>\n",
              "      <td>NaN</td>\n",
              "      <td>Unused</td>\n",
              "    </tr>\n",
              "    <tr>\n",
              "      <th>13</th>\n",
              "      <td>Wireless</td>\n",
              "      <td>FR44AAP003P</td>\n",
              "      <td>NaN</td>\n",
              "      <td>Unused</td>\n",
              "    </tr>\n",
              "    <tr>\n",
              "      <th>14</th>\n",
              "      <td>Switch</td>\n",
              "      <td>MA01VSAO104A-B03-04</td>\n",
              "      <td>MA01-HQ-CASABLANCA-MOROCCO - switch</td>\n",
              "      <td>In use</td>\n",
              "    </tr>\n",
              "  </tbody>\n",
              "</table>\n",
              "</div>"
            ],
            "text/plain": [
              "   device_type  ...  inventory_state\n",
              "1       Switch  ...           In use\n",
              "2       Switch  ...           In use\n",
              "3       Switch  ...           In use\n",
              "4       Switch  ...           In use\n",
              "6       Switch  ...           In use\n",
              "7       Switch  ...           In use\n",
              "9     Wireless  ...           Unused\n",
              "10    Wireless  ...           Unused\n",
              "11    Wireless  ...           Unused\n",
              "12    Wireless  ...           Unused\n",
              "13    Wireless  ...           Unused\n",
              "14      Switch  ...           In use\n",
              "\n",
              "[12 rows x 4 columns]"
            ]
          },
          "metadata": {
            "tags": []
          },
          "execution_count": 188
        }
      ]
    },
    {
      "cell_type": "code",
      "metadata": {
        "colab": {
          "base_uri": "https://localhost:8080/"
        },
        "id": "MXdJ2owJxq4A",
        "outputId": "41f88577-c238-4924-a634-52f0442b7c84"
      },
      "source": [
        "set(B['device_name']) - set(A['device_name'])"
      ],
      "execution_count": 189,
      "outputs": [
        {
          "output_type": "execute_result",
          "data": {
            "text/plain": [
              "{'B01-04',\n",
              " 'B02-04',\n",
              " 'B03-03',\n",
              " 'B04-04',\n",
              " 'FR44AAP001P',\n",
              " 'FR44AAP002P',\n",
              " 'FR44AAP003P',\n",
              " 'MA01VSAO104A-B03-04',\n",
              " 'NO50AAP004P',\n",
              " 'W01P',\n",
              " 'W02P'}"
            ]
          },
          "metadata": {
            "tags": []
          },
          "execution_count": 189
        }
      ]
    },
    {
      "cell_type": "markdown",
      "metadata": {
        "id": "DrmLZguWu48u"
      },
      "source": [
        "New CSV with desired fields"
      ]
    },
    {
      "cell_type": "code",
      "metadata": {
        "id": "83YAdXD-nnNZ"
      },
      "source": [
        "a = {\n",
        "    'Organisation_Name':A['Organisation_Name'],\n",
        "     'network_name': A['network_name'],\n",
        "     'device_name': A['device_name'],\n",
        "     'device_type': A['device_type']\n",
        "}\n"
      ],
      "execution_count": 190,
      "outputs": []
    },
    {
      "cell_type": "code",
      "metadata": {
        "id": "zJqPhQftqrx4"
      },
      "source": [
        "frame = pd.DataFrame(a)"
      ],
      "execution_count": 191,
      "outputs": []
    },
    {
      "cell_type": "code",
      "metadata": {
        "colab": {
          "base_uri": "https://localhost:8080/",
          "height": 521
        },
        "id": "LCi_dRLRvBdM",
        "outputId": "ab85b261-49d9-468c-b068-0c66f8ea4490"
      },
      "source": [
        "frame"
      ],
      "execution_count": 192,
      "outputs": [
        {
          "output_type": "execute_result",
          "data": {
            "text/html": [
              "<div>\n",
              "<style scoped>\n",
              "    .dataframe tbody tr th:only-of-type {\n",
              "        vertical-align: middle;\n",
              "    }\n",
              "\n",
              "    .dataframe tbody tr th {\n",
              "        vertical-align: top;\n",
              "    }\n",
              "\n",
              "    .dataframe thead th {\n",
              "        text-align: right;\n",
              "    }\n",
              "</style>\n",
              "<table border=\"1\" class=\"dataframe\">\n",
              "  <thead>\n",
              "    <tr style=\"text-align: right;\">\n",
              "      <th></th>\n",
              "      <th>Organisation_Name</th>\n",
              "      <th>network_name</th>\n",
              "      <th>device_name</th>\n",
              "      <th>device_type</th>\n",
              "    </tr>\n",
              "  </thead>\n",
              "  <tbody>\n",
              "    <tr>\n",
              "      <th>0</th>\n",
              "      <td>EMEA-POS</td>\n",
              "      <td>GRUNER-STRASSE</td>\n",
              "      <td>AP01_fauly</td>\n",
              "      <td>Wireless</td>\n",
              "    </tr>\n",
              "    <tr>\n",
              "      <th>1</th>\n",
              "      <td>EMEA-POS</td>\n",
              "      <td>PLATZ</td>\n",
              "      <td>AP-02</td>\n",
              "      <td>Switch</td>\n",
              "    </tr>\n",
              "    <tr>\n",
              "      <th>2</th>\n",
              "      <td>EMEA-POS</td>\n",
              "      <td>PLATZ</td>\n",
              "      <td>AP-03</td>\n",
              "      <td>Security Appliance</td>\n",
              "    </tr>\n",
              "    <tr>\n",
              "      <th>3</th>\n",
              "      <td>EMEA-POS</td>\n",
              "      <td>EINSTEIN</td>\n",
              "      <td>TEl-AVIV_EINSTEIN_MR33</td>\n",
              "      <td>Wireless</td>\n",
              "    </tr>\n",
              "    <tr>\n",
              "      <th>4</th>\n",
              "      <td>EMEA-POS</td>\n",
              "      <td>EINSTEIN</td>\n",
              "      <td>TEL-AVIV-EINTEIN_MX65</td>\n",
              "      <td>Wireless</td>\n",
              "    </tr>\n",
              "    <tr>\n",
              "      <th>5</th>\n",
              "      <td>EMEA-POS</td>\n",
              "      <td>ARM_WARS</td>\n",
              "      <td>WARS_MOKOTOW _MX65W</td>\n",
              "      <td>Wireless</td>\n",
              "    </tr>\n",
              "    <tr>\n",
              "      <th>6</th>\n",
              "      <td>EMEA-POS</td>\n",
              "      <td>ARM_WARS</td>\n",
              "      <td>WARS_MOKOTOW_MR33</td>\n",
              "      <td>Security Appliance</td>\n",
              "    </tr>\n",
              "    <tr>\n",
              "      <th>7</th>\n",
              "      <td>EMEA-POS</td>\n",
              "      <td>ARMANI_BHV</td>\n",
              "      <td>ARMANI_PARIS_BHV</td>\n",
              "      <td>Switch</td>\n",
              "    </tr>\n",
              "    <tr>\n",
              "      <th>8</th>\n",
              "      <td>EMEA-POS</td>\n",
              "      <td>ARMANI_BM</td>\n",
              "      <td>ARMANI_PARIS_BM</td>\n",
              "      <td>Switch</td>\n",
              "    </tr>\n",
              "    <tr>\n",
              "      <th>9</th>\n",
              "      <td>EMEA-POS</td>\n",
              "      <td>ARMANI_GLHAUSSMANN</td>\n",
              "      <td>Armani_Paris_GLHaussmann</td>\n",
              "      <td>Switch</td>\n",
              "    </tr>\n",
              "    <tr>\n",
              "      <th>10</th>\n",
              "      <td>EMEA-POS</td>\n",
              "      <td>ARMANI_PRHAUSSMANN</td>\n",
              "      <td>Armani_Paris_PRHaussmann</td>\n",
              "      <td>Switch</td>\n",
              "    </tr>\n",
              "    <tr>\n",
              "      <th>11</th>\n",
              "      <td>EMEA-POS</td>\n",
              "      <td>KLS_BROADGATE</td>\n",
              "      <td>UK_U40_MR_1</td>\n",
              "      <td>Wireless</td>\n",
              "    </tr>\n",
              "    <tr>\n",
              "      <th>12</th>\n",
              "      <td>EMEA-POS</td>\n",
              "      <td>KLS_BROADGATE</td>\n",
              "      <td>UK_U40_MR_2</td>\n",
              "      <td>Wireless</td>\n",
              "    </tr>\n",
              "    <tr>\n",
              "      <th>13</th>\n",
              "      <td>EMEA-POS</td>\n",
              "      <td>KLS_BROADGATE</td>\n",
              "      <td>UK_U40_MR_3</td>\n",
              "      <td>Wireless</td>\n",
              "    </tr>\n",
              "    <tr>\n",
              "      <th>14</th>\n",
              "      <td>EMEA-POS</td>\n",
              "      <td>KLS_BROADGATE</td>\n",
              "      <td>UK_U40_MS</td>\n",
              "      <td>Switch</td>\n",
              "    </tr>\n",
              "    <tr>\n",
              "      <th>15</th>\n",
              "      <td>EMEA-POS</td>\n",
              "      <td>CASABLANCA-MOROCCO</td>\n",
              "      <td>B01-03</td>\n",
              "      <td>Switch</td>\n",
              "    </tr>\n",
              "  </tbody>\n",
              "</table>\n",
              "</div>"
            ],
            "text/plain": [
              "   Organisation_Name  ...         device_type\n",
              "0           EMEA-POS  ...            Wireless\n",
              "1           EMEA-POS  ...              Switch\n",
              "2           EMEA-POS  ...  Security Appliance\n",
              "3           EMEA-POS  ...            Wireless\n",
              "4           EMEA-POS  ...            Wireless\n",
              "5           EMEA-POS  ...            Wireless\n",
              "6           EMEA-POS  ...  Security Appliance\n",
              "7           EMEA-POS  ...              Switch\n",
              "8           EMEA-POS  ...              Switch\n",
              "9           EMEA-POS  ...              Switch\n",
              "10          EMEA-POS  ...              Switch\n",
              "11          EMEA-POS  ...            Wireless\n",
              "12          EMEA-POS  ...            Wireless\n",
              "13          EMEA-POS  ...            Wireless\n",
              "14          EMEA-POS  ...              Switch\n",
              "15          EMEA-POS  ...              Switch\n",
              "\n",
              "[16 rows x 4 columns]"
            ]
          },
          "metadata": {
            "tags": []
          },
          "execution_count": 192
        }
      ]
    },
    {
      "cell_type": "code",
      "metadata": {
        "id": "oY2UhMdKqtB3"
      },
      "source": [
        "frame.to_csv('new.csv', sep='\\t')"
      ],
      "execution_count": 193,
      "outputs": []
    },
    {
      "cell_type": "code",
      "metadata": {
        "id": "ZD2IgHzTtJyX"
      },
      "source": [
        ""
      ],
      "execution_count": null,
      "outputs": []
    }
  ]
}